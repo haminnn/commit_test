{
 "cells": [
  {
   "cell_type": "code",
   "execution_count": 4,
   "id": "95bd0b6f-8466-4487-9da3-9edf6573fb04",
   "metadata": {},
   "outputs": [],
   "source": [
    "import requests\n",
    "\n",
    "from bs4 import BeautifulSoup\n",
    "\n",
    "response = requests.get('https://news.seoul.go.kr/traffic/archives/307')\n",
    "\n",
    "taxi = response.text\n",
    "\n",
    "soup = BeautifulSoup(taxi, 'html.parser')"
   ]
  },
  {
   "cell_type": "code",
   "execution_count": 92,
   "id": "bb94c7a5-4116-40f2-a5eb-b63ab958c8cd",
   "metadata": {},
   "outputs": [
    {
     "name": "stdout",
     "output_type": "stream",
     "text": [
      "\n",
      "개 인\n",
      "\n",
      "<class 'bs4.element.Tag'>\n",
      "\n",
      "49,504\n",
      "\n",
      "<class 'bs4.element.Tag'>\n",
      "\n",
      "49,449\n",
      "\n",
      "<class 'bs4.element.Tag'>\n",
      "\n",
      "49,424\n",
      "\n",
      "<class 'bs4.element.Tag'>\n",
      "\n",
      "49,394\n",
      "\n",
      "<class 'bs4.element.Tag'>\n",
      "\n",
      "49,373\n",
      "\n",
      "<class 'bs4.element.Tag'>\n",
      "\n",
      "49,336\n",
      "\n",
      "<class 'bs4.element.Tag'>\n",
      "\n",
      "49,269\n",
      "\n",
      "<class 'bs4.element.Tag'>\n",
      "\n",
      "49,249\n",
      "\n",
      "<class 'bs4.element.Tag'>\n",
      "\n",
      "49,225\n",
      "\n",
      "<class 'bs4.element.Tag'>\n",
      "\n",
      "49,202\n",
      "\n",
      "<class 'bs4.element.Tag'>\n",
      "\n",
      "49,178\n",
      "\n",
      "<class 'bs4.element.Tag'>\n",
      "\n",
      "49,162\n",
      "\n",
      "<class 'bs4.element.Tag'>\n"
     ]
    }
   ],
   "source": [
    "taxilist = list()\n",
    "my = soup.select('#post_content > table:nth-child(3) > tbody > tr:nth-child(4) > td')\n",
    "\n",
    "for i in my :\n",
    "    print(i.get_text())\n",
    "    taxilist.append(i)\n",
    "    print(type(i))"
   ]
  },
  {
   "cell_type": "code",
   "execution_count": 108,
   "id": "709a9aec-7ee5-4d54-ab49-d3cd062fa777",
   "metadata": {},
   "outputs": [
    {
     "name": "stdout",
     "output_type": "stream",
     "text": [
      "['<td>\\n<p>개 인</p>\\n</td>', '<td>\\n<p>49,504</p>\\n</td>', '<td>\\n<p>49,449</p>\\n</td>', '<td>\\n<p>49,424</p>\\n</td>', '<td>\\n<p>49,394</p>\\n</td>', '<td>\\n<p>49,373</p>\\n</td>', '<td>\\n<p>49,336</p>\\n</td>', '<td>\\n<p>49,269</p>\\n</td>', '<td>\\n<p>49,249</p>\\n</td>', '<td>\\n<p>49,225</p>\\n</td>', '<td>\\n<p>49,202</p>\\n</td>', '<td>\\n<p>49,178</p>\\n</td>', '<td>\\n<p>49,162</p>\\n</td>']\n"
     ]
    }
   ],
   "source": [
    "import re\n",
    "\n",
    "aa = list()\n",
    "\n",
    "for x in taxilist :\n",
    "    aa.append(str(x))\n",
    "    \n",
    "print(aa)"
   ]
  }
 ],
 "metadata": {
  "kernelspec": {
   "display_name": "Python 3 (ipykernel)",
   "language": "python",
   "name": "python3"
  },
  "language_info": {
   "codemirror_mode": {
    "name": "ipython",
    "version": 3
   },
   "file_extension": ".py",
   "mimetype": "text/x-python",
   "name": "python",
   "nbconvert_exporter": "python",
   "pygments_lexer": "ipython3",
   "version": "3.9.7"
  }
 },
 "nbformat": 4,
 "nbformat_minor": 5
}
