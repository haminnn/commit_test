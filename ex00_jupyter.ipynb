{
 "cells": [
  {
   "cell_type": "markdown",
   "id": "91fb81e5-a4ed-4137-b2f9-dd72323a0aa7",
   "metadata": {},
   "source": [
    "## 1. 편집 / 명령 모드\n",
    "> 편집 모드에서는 셀의 내용을 편집할 수 있고(셀의 테두리가 초록색), 명령 모드는 편집중이 아닌 상태 또는 셀 자체에 조작을 가하는 상태(셀의 테두리가 파란색)이다.\n",
    "명령 모드에서 편집 모드로 들어가려면 Enter키를, 반대로는 Esc 키를 누르면 된다.\n",
    "\n",
    "## 2. 셀의 타입\n",
    "\n",
    "> Code 타입, Markdown 타입이 있다.\n",
    "Code 타입은 일반 코드를 실행할 수 있는 셀이다. 기본적으로 셀을 생성하면 Code 타입으로 생성된다.\n",
    "Markdown 타입은 Markdown으로 셀의 내용을 작성할 수 있다. 코드로 실행되지는 않으며, 수식을 작성할 수 있다. 수식은 MathJax에 의해 지원된다. 수식 작성 방법은 여기를 참고한다.\n",
    "\n",
    "> Markdown 타입으로 변경하면 Markdown 코드를 작성할 수 있다. Shift + Enter 키를 누르면 마크다운이 실제 보여지는 방식으로 변경되며, 다시 수정하려면 Enter 또는 더블 클릭하면 편집 가능하다."
   ]
  },
  {
   "cell_type": "markdown",
   "id": "84c1489b-27a2-43d5-bafe-f1b4f2f15e43",
   "metadata": {},
   "source": [
    "## 3. 셀 실행\n",
    "> 실행하고 싶은 셀의 아무 곳에나 커서를 위치시킨 후 Shift + Enter 키를 누른다.\n",
    "실행하면 셀 아래쪽에는 실행 결과가 표시되고, 셀 옆의 ‘In [ ]’과 ‘Out [ ]’에 몇 번째로 실행시켰는지를 나타내는 숫자가 표시된다. 여러 번 실행하면 계속 숫자가 올라간다."
   ]
  },
  {
   "cell_type": "markdown",
   "id": "a5233134-7416-4683-a580-b23a4f415ab4",
   "metadata": {},
   "source": [
    "## 4. 강제 중단 / 재실행\n",
    "제목 아래 줄의 탭에 Kernel 탭이 있다. 커널은 IPython 대화창 아래에서 백그라운드 비슷하게 실행되는 일종의 운영체제 같은 개념이다. IPython 대화창을 관리한다고 보면 된다.\n",
    "\n",
    "Kernel 탭의 모든 버튼은 코드를 삭제하지는 않는다. 각 버튼의 기능을 설명하면,\n",
    "\n",
    "* Interrupt: 실행 중인 코드를 강제 중지한다. 중지하면 위 그림과 같은 에러가 뜨며 실행이 중지된다.\n",
    "* Restart: 실행 중인 코드가 중지되며 재시작된다. 코드나 실행 결과는 삭제되지 않는다.\n",
    "* Restart & Clear Output: 코드는 중지되며 실행 결과도 삭제한다.\n",
    "* Restart & Run All: 재시작 후 모든 셀의 코드를 위에서부터 순차적으로 한 번씩 실행한다.\n",
    "* Reconnect: 인터넷 연결이 끊어졌을 때 연결을 재시도한다.\n",
    "* Shutdown: 커널을 종료한다. 이 버튼을 누르면 실행 결과는 삭제되지 않으나 완전 종료된 상태로 더 이상 메모리를 잡아먹지 않는다.\n",
    "\n",
    "Shutdown되었거나, 인터넷 연결이 끊어졌거나, 기타 문제가 있으면 아래와 같이 탭 옆에 알림이 표시된다. Shutdown 된 경우 ```No kernel```이라고 뜬다.\n",
    "\n",
    "현재 실행중인 커널이 있는지 확인하는 방법은 두 가지다. 첫 번째는 Home 화면에서 ipynb 파일의 아이콘이 초록색이면 실행중, 회색이면 중단된 또는 시작되지 않은 상태이다. 여기서는 해당 디렉토리에서 실행중인 것만 확인할 수 있다."
   ]
  },
  {
   "cell_type": "markdown",
   "id": "cc6acd15-a60f-41eb-afa0-5f656a2c90bd",
   "metadata": {},
   "source": [
    "## 5. 단축키\n",
    "> * 단축키 정보는 [Help] - [Keyboard Shortcuts] 또는 명령 모드에서 H를 눌러서 표시할 수 있다.\n",
    "\n",
    "|공용 단축키|설명|\n",
    "|--------|---|\n",
    "| Shift + Enter| 액티브 셀을 실행하고 아래 셀을 선택한다.|\n",
    "Ctrl + Enter|\t액티브 셀을 실행한다.\n",
    "Alt + Enter|\t액티브 셀을 실행하고 아래에 셀을 하나 생성한다.\n",
    "\n",
    "|편집 모드 단축키|\t설명|\n",
    "|--------|---|\n",
    "Ctrl + Z|\tUndo 명령이다.\n",
    "Ctrl + Shift + Z|\tRedo 명령이다.\n",
    "Tab|\t자동완성 또는 Indent를 추가한다.\n",
    "Shift + Tab|\t툴팁 또는 변수의 상태를 표시한다.\n",
    "Ctrl + Shift + -|\t커서의 위치에서 셀을 잘라 두 개로 만든다.\n",
    "\n",
    "> * 참고로 명령 모드 단축키 중 콤마(,)로 되어 있는 것은 연속해서 누르라는 의미이다. 예로 D를 두 번 누르면 액티브 코드 셀을 삭제한다.\n",
    "\n",
    "|명령 모드 단축키|\t설명|\n",
    "|--------|---|\n",
    "↑, ↓|\t셀 선택\n",
    "A|\t액티브 코드 셀의 위(Above)에 셀을 하나 생성한다.\n",
    "B|\t액티브 코드 셀의 위(Below)에 셀을 하나 생성한다.\n",
    "Ctrl + S|\tNotebook 파일을 저장한다.\n",
    "Shift + L|\t줄 번호 표시를 토글한다.\n",
    "D, D|\t(D 두번 연속으로 타이핑)액티브 코드 셀을 삭제한다.\n",
    "Z|\t삭제한 셀을 하나 복원한다.\n",
    "Y|\t액티브 코드 셀을 Code 타입(코드를 기술하는 타입)으로 한다.\n",
    "M|\t액티브 코드 셀을 Markdown 타입으로 한다.\n",
    "O, O|\t커널을 재시작한다.\n",
    "P|\t명령 팔레트를 연다.\n",
    "H|\t단축키 목록을 표시한다. Enter 키로 숨긴다."
   ]
  },
  {
   "cell_type": "markdown",
   "id": "bbae0693-b49a-45ff-8b93-c169ebc5209a",
   "metadata": {},
   "source": [
    "## 6. shell(명령 프롬프트)의 이용\n",
    "> 명령창에서 쓰는 명령을 그대로 쓰되, 맨 앞에 !를 입력하여 사용 가능하다."
   ]
  },
  {
   "cell_type": "code",
   "execution_count": 16,
   "id": "56af2923-1be6-4d3b-9d21-8befca2173af",
   "metadata": {},
   "outputs": [
    {
     "name": "stdout",
     "output_type": "stream",
     "text": [
      "ex00_jupyther.ipynb  ex01_welcome.ipynb\n"
     ]
    }
   ],
   "source": [
    "!ls"
   ]
  },
  {
   "cell_type": "markdown",
   "id": "92603118-d2d0-49ba-bce9-7ee4cfa2f116",
   "metadata": {},
   "source": [
    "## 7. 매직 명령어 이용\n",
    "> 맨 앞에 %를 붙이고 특정 명령을 수행할 수 있다. 이는 파이썬 문법에는 포함되지 않은, Jupyter notebook만의 기능이다.\n",
    "\n",
    "|명령어|설명|\n",
    "|---|--|\n",
    "|%pwd|\t현재 디렉토리 경로 출력|\n",
    "%time 코드|\t코드의 실행 시간을 측정하여 표시\n",
    "%timeit 코드|\t코드를 여러 번 실행한 결과를 요약하여 표시\n",
    "%history -l 3|\t최근 3개의 코드 실행 이력 취득\n",
    "%ls|\t윈도우의 dir, Linux의 ls 명령과 같음\n",
    "%autosave n|\t자동저장 주기를 설정한다. 초 단위이며, 0이면 무효로 한다.\n",
    "%matplotlib|\t그래프를 그리는 코드 위에 따로 설정한다. \n",
    "||%matplotlib inline으로 설정하면 코드 셀의 바로 아래에, %matplotlib tk로 설정하면 별도 창에 그래프가 출력된다. \n",
    "||%matplotlib notebook으로 하면 코드 셀 바로 아래에 동적으로 그래프를 조작할 수 있는 그래프가 생성된다.aa"
   ]
  },
  {
   "cell_type": "code",
   "execution_count": 9,
   "id": "e210558a-e793-4253-b838-d063e187208f",
   "metadata": {},
   "outputs": [
    {
     "data": {
      "text/plain": [
       "'/home/studio-lab-user/sagemaker-studiolab-notebooks/lecture/Day01'"
      ]
     },
     "execution_count": 9,
     "metadata": {},
     "output_type": "execute_result"
    }
   ],
   "source": [
    "%pwd"
   ]
  }
 ],
 "metadata": {
  "kernelspec": {
   "display_name": "default:Python",
   "language": "python",
   "name": "conda-env-default-py"
  },
  "language_info": {
   "codemirror_mode": {
    "name": "ipython",
    "version": 3
   },
   "file_extension": ".py",
   "mimetype": "text/x-python",
   "name": "python",
   "nbconvert_exporter": "python",
   "pygments_lexer": "ipython3",
   "version": "3.9.7"
  }
 },
 "nbformat": 4,
 "nbformat_minor": 5
}
