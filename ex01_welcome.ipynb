{
 "cells": [
  {
   "cell_type": "markdown",
   "id": "0e1a21e7-87c6-4213-9102-48d9c651a46c",
   "metadata": {},
   "source": [
    "# Welcome to Python World!!!"
   ]
  },
  {
   "cell_type": "markdown",
   "id": "d12fbf17-dea2-4531-9c45-cf3bc316be5b",
   "metadata": {
    "tags": []
   },
   "source": [
    "## 1. 표준 출력 - print()"
   ]
  },
  {
   "cell_type": "code",
   "execution_count": 13,
   "id": "35f35033-a4ec-4327-b923-2a0de8128e57",
   "metadata": {},
   "outputs": [
    {
     "name": "stdout",
     "output_type": "stream",
     "text": [
      "1\n",
      "Welocome to Python World!!!\n",
      "내 이름은\n",
      "이나영\n",
      "줄을 바꿈\n",
      "TAB문자\t\\\n"
     ]
    }
   ],
   "source": [
    "print(1)\n",
    "print('Welocome to Python World!!!')\n",
    "print('내 이름은\\n이나영')\n",
    "print(\"줄을 바꿈\\nTAB문자\\t\\\\\")"
   ]
  },
  {
   "cell_type": "markdown",
   "id": "bd11ecce-3b11-4533-aa35-def4c05d13cc",
   "metadata": {},
   "source": [
    "## 2. 표준 입력 - input()"
   ]
  },
  {
   "cell_type": "code",
   "execution_count": 2,
   "id": "0c3bd989-d026-4682-8984-32514a7b9318",
   "metadata": {},
   "outputs": [
    {
     "name": "stdin",
     "output_type": "stream",
     "text": [
      "이름을 입력하세요 이나영\n"
     ]
    },
    {
     "data": {
      "text/plain": [
       "'이나영'"
      ]
     },
     "execution_count": 2,
     "metadata": {},
     "output_type": "execute_result"
    }
   ],
   "source": [
    "input('이름을 입력하세요')"
   ]
  },
  {
   "cell_type": "markdown",
   "id": "edc1bbee-1932-4a91-befe-ea4fce8422f1",
   "metadata": {},
   "source": [
    "## 3. 문장 규칙 \n",
    "기본적으로 한 줄이 한 문장.   \n",
    "한 줄에 여러 문장 작성 시 세미콜론( ; )으로 한 문장의 끝을 표시 "
   ]
  },
  {
   "cell_type": "code",
   "execution_count": 3,
   "id": "805afb06-044d-48ec-9a64-8afd7352336f",
   "metadata": {},
   "outputs": [
    {
     "name": "stdout",
     "output_type": "stream",
     "text": [
      "안녕하세요\n",
      "안녕하세요\n",
      "반갑습니다.\n"
     ]
    }
   ],
   "source": [
    "print('안녕하세요')\n",
    "print('안녕하세요') ; print('반갑습니다.')"
   ]
  },
  {
   "cell_type": "markdown",
   "id": "b094c7af-f014-4576-9a18-4c08bc4d0b74",
   "metadata": {},
   "source": [
    "## 4. 블록 규칙 \n",
    "들여쓰기로 결정됨"
   ]
  },
  {
   "cell_type": "code",
   "execution_count": 4,
   "id": "23e288eb-4aea-4250-aad0-ca120bfa9c96",
   "metadata": {},
   "outputs": [
    {
     "name": "stdout",
     "output_type": "stream",
     "text": [
      "성인입니다.\n"
     ]
    }
   ],
   "source": [
    "age = 20\n",
    "\n",
    "# if(age >=20) :\n",
    "#    print('성인입니다.')\n",
    "#    print()"
   ]
  },
  {
   "cell_type": "markdown",
   "id": "0018a7d9-e133-4723-8215-588e9a8a67f1",
   "metadata": {
    "tags": []
   },
   "source": [
    "## 5. 주석 \n",
    "\n",
    "``` \n",
    "# 주석입니다.\n",
    "```\n",
    "\n",
    "\n",
    "\n",
    "* 단축키는 Ctrl + /"
   ]
  },
  {
   "cell_type": "markdown",
   "id": "16b92145-7003-470d-901e-0a759f4970a1",
   "metadata": {},
   "source": [
    "## 6. DocString\n",
    "\n",
    "* docstring은 모듈, 함수, 클래스 또는 메소드 정의의 첫 번째 명령문으로 발생하는 문자열 리터럴\n",
    "* 큰따옴표 3개나 작은 따옴표 3개로 작성\n",
    "\n",
    "```\n",
    "\"\"\"\n",
    "DocString입니다.\n",
    "\"\"\"\n",
    "```"
   ]
  },
  {
   "cell_type": "code",
   "execution_count": 12,
   "id": "8257c78c-5478-43c4-a43f-03924c004e2f",
   "metadata": {},
   "outputs": [
    {
     "name": "stdout",
     "output_type": "stream",
     "text": [
      "성인입니다.\n"
     ]
    }
   ],
   "source": [
    "# 주석입니다.\n",
    "age = 20\n",
    "\n",
    "\"\"\"\n",
    "성인인지 확인하는 프로그램입니다.\n",
    "\"\"\"\n",
    "'''\n",
    "\n",
    "'''\n",
    "\n",
    "if(age >=20) :\n",
    "    print('성인입니다.')  # 주석입니다.\n",
    "    "
   ]
  }
 ],
 "metadata": {
  "kernelspec": {
   "display_name": "default:Python",
   "language": "python",
   "name": "conda-env-default-py"
  },
  "language_info": {
   "codemirror_mode": {
    "name": "ipython",
    "version": 3
   },
   "file_extension": ".py",
   "mimetype": "text/x-python",
   "name": "python",
   "nbconvert_exporter": "python",
   "pygments_lexer": "ipython3",
   "version": "3.9.7"
  }
 },
 "nbformat": 4,
 "nbformat_minor": 5
}
