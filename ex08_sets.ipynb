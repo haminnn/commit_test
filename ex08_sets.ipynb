{
 "cells": [
  {
   "cell_type": "markdown",
   "id": "012e0f20-adf5-4827-b0b9-f599c5a187d5",
   "metadata": {},
   "source": [
    "# Data Structure"
   ]
  },
  {
   "cell_type": "markdown",
   "id": "88a21f1c-6dfc-4ff3-8ee8-41e9b72422da",
   "metadata": {},
   "source": [
    "## 3. Set\n",
    "\n",
    "* set 자료형은 중복을 허용하지 않습니다.\n",
    "* set은 입력된 순서는 중요하지 않습니다.\n",
    "* set() 생성자 함수를 이용해서 만들 수 있습니다.\n",
    "* {}를 이용해서 만들 수 있습니다."
   ]
  },
  {
   "cell_type": "markdown",
   "id": "da529385-1b5c-4b59-81af-ffe8e099dc88",
   "metadata": {},
   "source": [
    "## (1) 생성"
   ]
  },
  {
   "cell_type": "code",
   "execution_count": 2,
   "id": "d6924aba-ccb1-40a2-97b7-b269ef5f2f0e",
   "metadata": {},
   "outputs": [
    {
     "name": "stdout",
     "output_type": "stream",
     "text": [
      "<class 'set'> set()\n"
     ]
    }
   ],
   "source": [
    "# 집합 생성 방법 1\n",
    "myset1 = set()\n",
    "\n",
    "print(type(myset1), myset1)"
   ]
  },
  {
   "cell_type": "code",
   "execution_count": 5,
   "id": "c5618f3e-6f9e-4a2b-a4f7-291a217ee6bb",
   "metadata": {},
   "outputs": [
    {
     "name": "stdout",
     "output_type": "stream",
     "text": [
      "{'cherry', 'banana', 'apple'} <class 'set'>\n"
     ]
    }
   ],
   "source": [
    "# 집합 생성 방법 2\n",
    "myset2 = {\"apple\", \"banana\", \"cherry\"}\n",
    "\n",
    "print(myset2, type(myset2))"
   ]
  },
  {
   "cell_type": "code",
   "execution_count": 6,
   "id": "dbf7d895-947b-4720-92c9-bdde4a6cb8b1",
   "metadata": {},
   "outputs": [
    {
     "name": "stdout",
     "output_type": "stream",
     "text": [
      "{'cherry', 'banana', 'apple'}\n"
     ]
    }
   ],
   "source": [
    "# 중복 안됨\n",
    "thisset = {\"apple\", \"banana\", \"cherry\", \"apple\"}\n",
    "\n",
    "print(thisset)"
   ]
  },
  {
   "cell_type": "markdown",
   "id": "7d02c819-c01f-460a-ba50-a0e02dbee81b",
   "metadata": {},
   "source": [
    "## (2) Item 접근\n"
   ]
  },
  {
   "cell_type": "code",
   "execution_count": 10,
   "id": "74a0e959-e489-4a6a-bcb9-4d118ba94b5b",
   "metadata": {},
   "outputs": [
    {
     "name": "stdout",
     "output_type": "stream",
     "text": [
      "True\n",
      "3\n"
     ]
    }
   ],
   "source": [
    "thisset = {\"apple\", \"banana\", \"cherry\", \"cherry\"}\n",
    "\n",
    "print(\"banana\" in thisset)\n",
    "print(len(thisset))"
   ]
  },
  {
   "cell_type": "markdown",
   "id": "6a45a097-51d6-4689-bdf6-d37fb1851138",
   "metadata": {},
   "source": [
    "## (3) Item 추가, 수정, 삭제 "
   ]
  },
  {
   "cell_type": "code",
   "execution_count": 11,
   "id": "47657a6b-912a-4c75-8618-de63d577afc6",
   "metadata": {},
   "outputs": [
    {
     "name": "stdout",
     "output_type": "stream",
     "text": [
      "{'cherry', 'orange', 'banana', 'apple'}\n"
     ]
    }
   ],
   "source": [
    "# 아이템 추가\n",
    "thisset = {\"apple\", \"banana\", \"cherry\"}\n",
    "\n",
    "thisset.add(\"orange\") # 순서 보장 안됨\n",
    "\n",
    "print(thisset)"
   ]
  },
  {
   "cell_type": "code",
   "execution_count": 13,
   "id": "8040a06d-bdf4-40f8-a3ce-0d1e288ffd44",
   "metadata": {},
   "outputs": [
    {
     "name": "stdout",
     "output_type": "stream",
     "text": [
      "{'cherry', 'pineapple', 'apple', 'mango', 'papaya', 'banana'}\n"
     ]
    }
   ],
   "source": [
    "thisset = {\"apple\", \"banana\", \"cherry\"}\n",
    "tropical = {\"pineapple\", \"mango\", \"papaya\"}\n",
    "\n",
    "thisset.update(tropical)\n",
    "\n",
    "print(thisset)"
   ]
  },
  {
   "cell_type": "code",
   "execution_count": 15,
   "id": "b3dc93f9-ed8d-44e4-9e9c-1999d84cd445",
   "metadata": {},
   "outputs": [
    {
     "name": "stdout",
     "output_type": "stream",
     "text": [
      "{'orange', 'kiwi', 'cherry', 'apple', 'banana'}\n"
     ]
    }
   ],
   "source": [
    "thisset = {\"apple\", \"banana\", \"cherry\"}\n",
    "mylist = [\"kiwi\", \"orange\", \"apple\"]\n",
    "\n",
    "thisset.update(mylist)\n",
    "\n",
    "print(thisset)"
   ]
  },
  {
   "cell_type": "code",
   "execution_count": 16,
   "id": "a58ba1c0-368c-4153-9938-76baeba40f5a",
   "metadata": {},
   "outputs": [
    {
     "name": "stdout",
     "output_type": "stream",
     "text": [
      "{'cherry', 'apple'}\n"
     ]
    }
   ],
   "source": [
    "# 아이템 삭제\n",
    "thisset = {\"apple\", \"banana\", \"cherry\"}\n",
    "\n",
    "thisset.remove(\"banana\")\n",
    "\n",
    "print(thisset)"
   ]
  },
  {
   "cell_type": "code",
   "execution_count": 17,
   "id": "ec52701e-81b5-4cae-b701-0024ed5eeb88",
   "metadata": {},
   "outputs": [
    {
     "name": "stdout",
     "output_type": "stream",
     "text": [
      "{'cherry', 'apple'}\n"
     ]
    }
   ],
   "source": [
    "# 아이템 삭제\n",
    "thisset = {\"apple\", \"banana\", \"cherry\"}\n",
    "\n",
    "thisset.discard(\"banana\")\n",
    "\n",
    "print(thisset)"
   ]
  },
  {
   "cell_type": "code",
   "execution_count": 18,
   "id": "82dd7917-ca6c-4c01-8972-94b529d1eb67",
   "metadata": {},
   "outputs": [
    {
     "name": "stdout",
     "output_type": "stream",
     "text": [
      "cherry\n",
      "{'banana', 'apple'}\n"
     ]
    }
   ],
   "source": [
    "# 마지막 아이템 꺼내오기\n",
    "thisset = {\"apple\", \"banana\", \"cherry\"}\n",
    "\n",
    "x = thisset.pop()\n",
    "\n",
    "print(x)\n",
    "\n",
    "print(thisset)"
   ]
  },
  {
   "cell_type": "markdown",
   "id": "2051e6c2-2dc6-42e5-8b85-dd4094f9c15e",
   "metadata": {},
   "source": [
    "## (4) 집합 함수\n",
    "https://www.w3schools.com/python/python_sets_methods.asp"
   ]
  }
 ],
 "metadata": {
  "kernelspec": {
   "display_name": "default:Python",
   "language": "python",
   "name": "conda-env-default-py"
  },
  "language_info": {
   "codemirror_mode": {
    "name": "ipython",
    "version": 3
   },
   "file_extension": ".py",
   "mimetype": "text/x-python",
   "name": "python",
   "nbconvert_exporter": "python",
   "pygments_lexer": "ipython3",
   "version": "3.9.7"
  }
 },
 "nbformat": 4,
 "nbformat_minor": 5
}
