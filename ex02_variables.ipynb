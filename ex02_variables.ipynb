{
 "cells": [
  {
   "cell_type": "markdown",
   "id": "14dc8bde-14d4-4d15-8992-8ec44b0604cc",
   "metadata": {},
   "source": [
    "# Variables"
   ]
  },
  {
   "cell_type": "markdown",
   "id": "70e4496a-72dc-4c3b-a07a-131ab79a5391",
   "metadata": {},
   "source": [
    "## 1. 변수이름 규칙 \n",
    "* 변수이름의 첫글자는 반드시 영문자 또는 언더스코어( _ ) 어이야 한다. \n",
    "* 숫자나 특수문자로 시작하면 안된다.  \n",
    "* 영문자의 대소문자를 구분한다.   \n",
    "* 키워드는 사용할 수 없다. "
   ]
  },
  {
   "cell_type": "markdown",
   "id": "e0e17adc-402d-47c6-a4ac-bd5e00df1f05",
   "metadata": {},
   "source": [
    "## 2. 키워드\n",
    "* 파이썬에서 이미 예약되어있는 문자열로서 다른 용도로 사용이 불가능한 문자열"
   ]
  },
  {
   "cell_type": "code",
   "execution_count": 1,
   "id": "e6181c71-9636-4b91-9d3a-b06f84895529",
   "metadata": {},
   "outputs": [
    {
     "name": "stdout",
     "output_type": "stream",
     "text": [
      "[False     ] [None      ] [True      ] [__peg_parser__] [and       ] \n",
      "[as        ] [assert    ] [async     ] [await     ] [break     ] \n",
      "[class     ] [continue  ] [def       ] [del       ] [elif      ] \n",
      "[else      ] [except    ] [finally   ] [for       ] [from      ] \n",
      "[global    ] [if        ] [import    ] [in        ] [is        ] \n",
      "[lambda    ] [nonlocal  ] [not       ] [or        ] [pass      ] \n",
      "[raise     ] [return    ] [try       ] [while     ] [with      ] \n",
      "[yield     ] "
     ]
    }
   ],
   "source": [
    "import keyword\n",
    "\n",
    "# print(keyword.kwlist)\n",
    "kwlist = keyword.kwlist\n",
    "\n",
    "for i in range(0,len(kwlist)):\n",
    "    \n",
    "    print(\"[{:10}]\".format(kwlist[i]), end=\" \")\n",
    "    \n",
    "    if (i + 1) % 5 == 0: \n",
    "        print()"
   ]
  },
  {
   "cell_type": "markdown",
   "id": "74756602-7adf-43a8-b1c7-f87d79549355",
   "metadata": {
    "tags": []
   },
   "source": [
    "## 3. 식별자\n",
    "* 변수, 상수, 함수, 사용자 정의 타입 등에서 다른 것들과 구분하기 위해서 사용되는 변수의 이름, 상수의 이름, 함수의 이름, 사용자 정의 타입의 이름 등 '이름'을 일반화 해서 지칭하는 용어입니다.\n",
    "\n",
    "* 작성 스타일\n",
    "    * 카멜 표기법(Camel Case)\n",
    "    여러 단어를 연달아 사용할 때 각 단어의 첫 글자를 대문자로 적되, 맨 앞에 오는 글자는 소문자로 표기하는 것입니다. 낙타의 등에 있는 혹과 같다고 하여 카멜(Camel) 표기법이라고 부릅니다. Java의 권장 표기법입니다.   \n",
    "    예) camelVariable, firstName, lastName ...\n",
    "    * 파스칼 표기법(Pascal Case)\n",
    "    단어의 모든 앞글자를 대문자로 표기합니다. 카멜 표기법이 단봉낙타라면 파스칼은 쌍봉낙타라고 할 수 있습니다.   \n",
    "    예) PascalVariable, FirstName, LastName ...\n",
    "    * 헝가리안 표기법(Hungarian Notation)\n",
    "    접두어에 자료형을 붙이는 표기법입니다. 요즈음은 잘 사용하지 않는 스타일입니다. 언어의 종류가 다양한 만큼 자료형도, 문서 데이터도 다양해졌기 때문에 접두어가 의미가 없어졌기 때문 입니다.   \n",
    "    예) strName, bBusy, szName ...\n",
    "    * 스네이크 표기법(Snake Case)\n",
    "    단어 사이에 언더바를 넣어서 표기하는 방법입니다. 하지만 \"_\" 이나 \"__\"로 시작되는 식별자들은 많은 언어에서 확장으로 예약되어 있는 경우가 많으므로 사용하지 않는 것이 관례입니다.\n",
    "\n",
    "* 작성 규칙\n",
    "    * 식별자는 소문자 (a ~ z) 또는 대문자 (A ~ Z) 또는 숫자 (0 ~ 9) 또는 밑줄 (_)의 조합입니다.\n",
    "    * myClass, var_1및 print_this_to_screen 모두 유효한 예입니다.\n",
    "    * 식별자는 숫자로 시작될 수 없습니다. 1variable무효이지만 variable1완벽하게 괜찮습니다.\n",
    "    * 키워드는 식별자로 사용할 수 없습니다.\n",
    "    * 식별자의 길이는 제한이 없습니다.\n",
    "    * 파이썬은 대소 문자를 구별하는 언어입니다. 이는, Variable과 variable동일하지 않습니다.\n",
    "    * 의미있는 식별자의 이름을 항상 지정하십시오.\n",
    "    * !, @, #, $, % 등 특수 기호는 우리 식별자에서 사용할 수 없습니다."
   ]
  },
  {
   "cell_type": "markdown",
   "id": "586d0b72-fc23-45a1-ab05-914eaa7ee97a",
   "metadata": {},
   "source": [
    "## 4. 대입 연산자 "
   ]
  },
  {
   "cell_type": "code",
   "execution_count": 3,
   "id": "8fd64405-1978-4c7e-b870-d1f96fc7790d",
   "metadata": {},
   "outputs": [
    {
     "name": "stdout",
     "output_type": "stream",
     "text": [
      "Grape\n",
      "Banana\n",
      "Cherry\n",
      "Nayoung likes a Grape\n"
     ]
    }
   ],
   "source": [
    "#1) 변수이름은 score  변수값은 10 \n",
    "score = 10 \n",
    "\n",
    "#2) 변수이름은 qty  변수값은 200\n",
    "qty = 200\n",
    "\n",
    "#3) 변수이름은 name 변수값은 “Nayoung”  또는 ‘Nayoung’ \n",
    "name = 'Nayoung'\n",
    "\n",
    "# 4) 여러 개 값 동시에 대입 가능\n",
    "x, y, z = \"Grape\", \"Banana\", \"Cherry\"\n",
    "\n",
    "print(x)\n",
    "print(y)\n",
    "print(z)\n",
    "\n",
    "print(name + ' likes a ' + x)"
   ]
  },
  {
   "cell_type": "markdown",
   "id": "45601a00-1116-4fb2-bed2-db00a4d41220",
   "metadata": {},
   "source": [
    "## 5. 상수\n",
    "* 항상 똑같은 값을 저장하고 있는 곳"
   ]
  },
  {
   "cell_type": "code",
   "execution_count": 6,
   "id": "14bf7ad2-7840-4237-b50c-b7c5d9053770",
   "metadata": {},
   "outputs": [
    {
     "name": "stdout",
     "output_type": "stream",
     "text": [
      "3.14\n",
      "9.8\n"
     ]
    }
   ],
   "source": [
    "PI = 3.14\n",
    "GRAVITY = 9.8\n",
    "\n",
    "print(PI)\n",
    "print(GRAVITY)"
   ]
  }
 ],
 "metadata": {
  "kernelspec": {
   "display_name": "Python 3 (ipykernel)",
   "language": "python",
   "name": "python3"
  },
  "language_info": {
   "codemirror_mode": {
    "name": "ipython",
    "version": 3
   },
   "file_extension": ".py",
   "mimetype": "text/x-python",
   "name": "python",
   "nbconvert_exporter": "python",
   "pygments_lexer": "ipython3",
   "version": "3.9.7"
  }
 },
 "nbformat": 4,
 "nbformat_minor": 5
}
