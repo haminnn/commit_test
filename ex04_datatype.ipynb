{
 "cells": [
  {
   "cell_type": "markdown",
   "id": "14dc8bde-14d4-4d15-8992-8ec44b0604cc",
   "metadata": {},
   "source": [
    "# Variables"
   ]
  },
  {
   "cell_type": "markdown",
   "id": "70e4496a-72dc-4c3b-a07a-131ab79a5391",
   "metadata": {
    "tags": []
   },
   "source": [
    "## 1. 기본 데이터 타입\n",
    "* 숫자형 : int, float, complex\n",
    "* 문자형 : str\n",
    "* 불린형 : boolean\n",
    "* 바이너리형 : bytes, bytearray, memoryview"
   ]
  },
  {
   "cell_type": "code",
   "execution_count": 12,
   "id": "8fd64405-1978-4c7e-b870-d1f96fc7790d",
   "metadata": {},
   "outputs": [
    {
     "name": "stdout",
     "output_type": "stream",
     "text": [
      "<class 'int'>\n"
     ]
    },
    {
     "data": {
      "text/plain": [
       "float"
      ]
     },
     "execution_count": 12,
     "metadata": {},
     "output_type": "execute_result"
    }
   ],
   "source": [
    "i = 10  # 정수형\n",
    "\n",
    "type(i)        # 데이터 타입 확인 \n",
    "print(type(i)) # 데이터 타입 확인 \n",
    "\n",
    "j = 10.5 # 실수형\n",
    "\n",
    "type(j)  # 데이터 타입 확인 "
   ]
  },
  {
   "cell_type": "code",
   "execution_count": 13,
   "id": "22f15c59-e7bb-48fb-be16-d5e6ab52cb93",
   "metadata": {},
   "outputs": [
    {
     "name": "stdout",
     "output_type": "stream",
     "text": [
      "<class 'str'>\n",
      "여행의 이유  ::  김영하\n",
      "여행-일상-여행의 고리를 잇는,\n",
      "아홉 개의 매혹적인 이야기\n",
      "6\n"
     ]
    }
   ],
   "source": [
    "# 문자열은 \" \"  또는 ' '로 감싼다. \n",
    "title =\"여행의 이유\" \n",
    "author = '김영하' \n",
    "\n",
    "print( type(title) ) # 데이터 타입 확인 \n",
    "\n",
    "# 여러줄 문자열 \n",
    "message=\"\"\"여행-일상-여행의 고리를 잇는,\n",
    "아홉 개의 매혹적인 이야기\"\"\" \n",
    "\n",
    "print(title, \" :: \" , author)\n",
    "print(message )\n",
    "\n",
    "# 문자열 길이\n",
    "print( len(title)  )"
   ]
  },
  {
   "cell_type": "code",
   "execution_count": 14,
   "id": "5c8a1f4d-6322-42e5-a6cc-ce3b49011206",
   "metadata": {},
   "outputs": [
    {
     "name": "stdout",
     "output_type": "stream",
     "text": [
      "True\n",
      "False\n",
      "True\n",
      "False\n",
      "<class 'bool'>\n"
     ]
    }
   ],
   "source": [
    "answer = True #불린 데이터 타입\n",
    "print(answer)\n",
    "answer = False\n",
    "print(answer)\n",
    "answer = (10 == 10) \n",
    "print(answer)\n",
    "answer = (10 != 10) \n",
    "print(answer)\n",
    "print( type(answer) )  # 데이터 타입 확인 "
   ]
  },
  {
   "cell_type": "code",
   "execution_count": null,
   "id": "82e78931-1c9a-495b-9248-bd5545984291",
   "metadata": {},
   "outputs": [],
   "source": [
    "a = 20 #대입연산자\n",
    "b = 15 #대입연산자\n",
    "result = a + b ; print( result )   # 덧셈연산자 \n",
    "result = a - b ; print( result )   # 뺄셈연산자 \n",
    "result = a * b ; print( result )   # 곱셈연산자\n",
    "result = a / b ; print( result )   # 나눗셈연산자\n",
    "result = a // b ; print( result )  # 나누기(몫)연산자\n",
    "result = a % b ; print( result )   # 나눈 나머지연산자 \n",
    "result = a ** 2 ; print( result )  # 제곱연산자"
   ]
  },
  {
   "cell_type": "markdown",
   "id": "9c5bcb57-ccc7-4911-b0e7-b69710a00330",
   "metadata": {},
   "source": [
    "## 2. 데이터 구조\n",
    "* Sequence Type : list, tuple, range\n",
    "* Set Type : set\n",
    "* Mapping Type : dict"
   ]
  },
  {
   "cell_type": "code",
   "execution_count": 18,
   "id": "d5ba9af2-2153-46a1-9998-1f6e7f14baf4",
   "metadata": {},
   "outputs": [
    {
     "name": "stdout",
     "output_type": "stream",
     "text": [
      "{'apple', 'cherry', 'banana'}\n",
      "<class 'set'>\n"
     ]
    }
   ],
   "source": [
    "# set 데이터 타입\n",
    "x = {\"apple\", \"banana\", \"cherry\"}\n",
    "\n",
    "#display x:\n",
    "print(x)\n",
    "\n",
    "#display the data type of x:\n",
    "print(type(x)) \n"
   ]
  },
  {
   "cell_type": "markdown",
   "id": "71edc9c2-088d-43da-9860-f58844960060",
   "metadata": {},
   "source": [
    "## 3. 데이터 타입 변환"
   ]
  },
  {
   "cell_type": "code",
   "execution_count": 10,
   "id": "4b13590d-5720-4102-b2b7-cea23df19ad4",
   "metadata": {},
   "outputs": [
    {
     "name": "stdin",
     "output_type": "stream",
     "text": [
      "이름을 입력하세요\n",
      " 홍길동\n",
      "영어 점수를 입력하세요\n",
      " 20\n",
      "과학 점수를 입력하세요\n",
      " 40\n",
      "수학 점수를 입력하세요\n",
      " 50\n"
     ]
    }
   ],
   "source": [
    "# 키보드 입력\n",
    "name = input(\"이름을 입력하세요\\n\")\n",
    "\n",
    "english_score = input(\"영어 점수를 입력하세요\\n\")\n",
    "science_score = input(\"과학 점수를 입력하세요\\n\")\n",
    "math_score = input(\"수학 점수를 입력하세요\\n\")"
   ]
  },
  {
   "cell_type": "code",
   "execution_count": 11,
   "id": "177b1c36-3085-4557-a199-eb2f996c805a",
   "metadata": {},
   "outputs": [
    {
     "data": {
      "text/plain": [
       "36.666666666666664"
      ]
     },
     "execution_count": 11,
     "metadata": {},
     "output_type": "execute_result"
    }
   ],
   "source": [
    "# 산술연산을 하려면 숫자 데이터타입으로 타입변환을 해야 함. \n",
    "\n",
    "english_score = int (english_score)  # 정수로 타입 변환 \n",
    "science_score = float (science_score)# 실수로 타입 변환 \n",
    "math_score = float (math_score)# 실수로 타입 변환\n",
    "\n",
    "avg = (english_score+science_score+math_score)/3\n",
    "avg"
   ]
  },
  {
   "cell_type": "code",
   "execution_count": 12,
   "id": "dd487d19-4662-4fe9-af16-8f3f97ac2412",
   "metadata": {},
   "outputs": [
    {
     "name": "stdout",
     "output_type": "stream",
     "text": [
      "10번\n"
     ]
    }
   ],
   "source": [
    "num = 10 \n",
    "print ( str(num) + \"번\" )"
   ]
  },
  {
   "cell_type": "code",
   "execution_count": 13,
   "id": "098f0e55-dc47-4a95-ba23-1e97b31bdfe6",
   "metadata": {},
   "outputs": [
    {
     "name": "stdout",
     "output_type": "stream",
     "text": [
      "True\n",
      "False True\n"
     ]
    }
   ],
   "source": [
    "num = 10 \n",
    "\n",
    "print ( bool(num) )\n",
    "print ( bool(0) , bool(-1)  )  #숫자 0만 False,  나머지 모두 True"
   ]
  },
  {
   "cell_type": "markdown",
   "id": "df569f08-038b-47e5-9592-a872bfe3a7ab",
   "metadata": {},
   "source": [
    "## 4. 출력 형식 \n",
    "* %d   정수\n",
    "* %f   실수 \n",
    "* %s   문자열"
   ]
  },
  {
   "cell_type": "code",
   "execution_count": 14,
   "id": "d6e89b0a-dba2-42c0-b34b-c106ce06cb93",
   "metadata": {},
   "outputs": [
    {
     "name": "stdout",
     "output_type": "stream",
     "text": [
      " 이름 : 홍길동 , 평균점수 : 36.666667\n",
      " 이름 :   홍길동 , 평균점수 : 36.67\n"
     ]
    }
   ],
   "source": [
    "# 출력 포멧 갯수와  % 뒤에 나오는 숫자(또는 문자)의 개수가 같아야 함 \n",
    "\n",
    "print(\" 이름 : %s , 평균점수 : %f\" % (name, avg  ))\n",
    "\n",
    "# %5s   -->  문자열을 5자리로 출력 \n",
    "# %5.2f -->  실수를 전체 5자리. 소수점이하 2자리로 출력  \n",
    "print(\" 이름 : %5s , 평균점수 : %5.2f\" % (name, avg  )) "
   ]
  },
  {
   "cell_type": "code",
   "execution_count": 15,
   "id": "992c4622-6a4b-4e9e-acd2-fcde36e57911",
   "metadata": {},
   "outputs": [
    {
     "name": "stdout",
     "output_type": "stream",
     "text": [
      "홍길동 학생의 평균점수는 36.67 입니다.\n",
      "홍길동 학생의 평균점수는 36.67 입니다.\n"
     ]
    }
   ],
   "source": [
    "# {0:4s} --> 4자리 문자열, 0번째 데이터인(name)\n",
    "# {1:5f} --> 전체 5자리 소수점이하 2자리 실수, 1번째 데이터인(avg)\n",
    "message = \"{0:4s}학생의 평균점수는 {1:5.2f} 입니다.\".format(name,avg)\n",
    "print(message)\n",
    "\n",
    "# {1:4s} --> 4자리 문자열 1번째 데이터인(name)\n",
    "# {0:5f} --> 전체 5자리 소수점이하 2자리 실수. 0번째 데이터인(avg)\n",
    "message = \"{1:4s}학생의 평균점수는 {0:5.2f} 입니다.\".format(avg,name)\n",
    "print(message)"
   ]
  },
  {
   "cell_type": "code",
   "execution_count": 16,
   "id": "8b4f68aa-81be-41e7-9d12-f9079b6072e8",
   "metadata": {},
   "outputs": [
    {
     "name": "stdout",
     "output_type": "stream",
     "text": [
      "--------------------------------------------------\n"
     ]
    }
   ],
   "source": [
    "dash = \"-\"\n",
    "print(dash * 50)  # 문자열 * 숫자 는 문자열을 숫자만큼 반복 "
   ]
  }
 ],
 "metadata": {
  "kernelspec": {
   "display_name": "default:Python",
   "language": "python",
   "name": "conda-env-default-py"
  },
  "language_info": {
   "codemirror_mode": {
    "name": "ipython",
    "version": 3
   },
   "file_extension": ".py",
   "mimetype": "text/x-python",
   "name": "python",
   "nbconvert_exporter": "python",
   "pygments_lexer": "ipython3",
   "version": "3.9.7"
  }
 },
 "nbformat": 4,
 "nbformat_minor": 5
}
