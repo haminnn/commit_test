{
 "cells": [
  {
   "cell_type": "markdown",
   "id": "a039d9de-1aac-44d0-97a7-dc243d38497b",
   "metadata": {},
   "source": [
    "# Data Structure"
   ]
  },
  {
   "cell_type": "markdown",
   "id": "c0ee0077-36fa-4739-bfb5-2dd9d7a5cd88",
   "metadata": {
    "tags": []
   },
   "source": [
    "## 1. List\n",
    "\n",
    "* list는 자료들의 모임입니다.\n",
    "* 입력된 순서가 유지됩니다.\n",
    "* list() 생성자나 []로 리스트를 만듭니다.\n",
    "\n",
    "* 리스트에 저장되는 요소가 모두 같은 타입일 필요는 없습니다.\n",
    "* 리스트에는 요소들이 순서대로 저장되며, 각 요소는 0부터 시작하는 인덱스를 사용하여 접근할 수 있습니다.\n",
    "* 리스트는 그 값을 변경할 수 있습니다."
   ]
  },
  {
   "cell_type": "markdown",
   "id": "c1e83635-f92a-4ab2-abfc-f224a77c955a",
   "metadata": {},
   "source": [
    "## (1) 생성"
   ]
  },
  {
   "cell_type": "code",
   "execution_count": 6,
   "id": "43755524-b031-4476-9f56-05f9eeda0fba",
   "metadata": {
    "tags": []
   },
   "outputs": [
    {
     "name": "stdout",
     "output_type": "stream",
     "text": [
      "<class 'list'> []\n"
     ]
    }
   ],
   "source": [
    "# 리스트 생성 방법 1\n",
    "mylist1 = list()\n",
    "\n",
    "print(type(mylist1), mylist1)"
   ]
  },
  {
   "cell_type": "code",
   "execution_count": 7,
   "id": "622f5af3-29ca-4424-b0d6-b2bb44ba2d5d",
   "metadata": {},
   "outputs": [
    {
     "name": "stdout",
     "output_type": "stream",
     "text": [
      "<class 'list'> ['apple', 'banana', 'cherry']\n"
     ]
    }
   ],
   "source": [
    "# 리스트 생성 방법 2\n",
    "mylist2 = [\"apple\", \"banana\", \"cherry\"]\n",
    "\n",
    "print(type(mylist2),mylist2)"
   ]
  },
  {
   "cell_type": "code",
   "execution_count": 11,
   "id": "24e0df63-a168-483f-9031-64044a2c456e",
   "metadata": {},
   "outputs": [
    {
     "name": "stdout",
     "output_type": "stream",
     "text": [
      "['apple', 'banana', 'cherry', 'apple', 'cherry']\n",
      "<class 'list'> [1, 2, 3, 1.1, 2.2, 'A', True, (1, 2, 3)]\n"
     ]
    }
   ],
   "source": [
    "mylist3 = [\"apple\", \"banana\", \"cherry\", \"apple\", \"cherry\"] # 중복 허용\n",
    "print(mylist3)\n",
    "\n",
    "mylist4 = [1, 2, 3, 1.1, 2.2, 'A', True,(1,2,3)]\n",
    "print(type(mylist4), mylist4)"
   ]
  },
  {
   "cell_type": "markdown",
   "id": "0d92d970-f792-4e29-8bd4-299f02836f38",
   "metadata": {},
   "source": [
    "## (2) Item 접근"
   ]
  },
  {
   "cell_type": "code",
   "execution_count": 9,
   "id": "7decf6ed-7dae-4d20-9560-a5e5e2585c84",
   "metadata": {},
   "outputs": [
    {
     "name": "stdout",
     "output_type": "stream",
     "text": [
      "banana\n"
     ]
    }
   ],
   "source": [
    "thislist = [\"apple\", \"banana\", \"cherry\"]\n",
    "\n",
    "print(thislist[1])"
   ]
  },
  {
   "cell_type": "markdown",
   "id": "ee8baed3-ad0b-4d29-8bc2-9c9fe5d785b3",
   "metadata": {},
   "source": [
    "## (3) 리스트의 길이, 추가, 삽입, 수정, 삭제"
   ]
  },
  {
   "cell_type": "code",
   "execution_count": 27,
   "id": "82a949ac-ecaa-4c4a-8f5e-eb242bd2b443",
   "metadata": {},
   "outputs": [
    {
     "name": "stdout",
     "output_type": "stream",
     "text": [
      "6\n",
      "['kim', 'park', 'song']\n"
     ]
    }
   ],
   "source": [
    "member_list = [\"lee\", \"hong\", \"kim\", \"park\", \"song\", \"choi\"] # 리스트는 [ ] 로 생성.  \n",
    "\n",
    "print( len(member_list ) ) # 리스트 길이 확인 \n",
    "print(member_list[2:5]) # 2번째부터 4번째까지"
   ]
  },
  {
   "cell_type": "code",
   "execution_count": 31,
   "id": "a79aebf1-3e91-4dcf-adde-0ff7f06a84ce",
   "metadata": {},
   "outputs": [
    {
     "name": "stdout",
     "output_type": "stream",
     "text": [
      "7\n",
      "['han', 'hong', 'kim', 'park', 'song', 'choi', 'jang', 'jang']\n",
      "8\n",
      "['yoon', 'han', 'hong', 'kim', 'park', 'song', 'choi', 'jang', 'jang']\n",
      "9\n"
     ]
    }
   ],
   "source": [
    "# 리스트 추가\n",
    "member_list.append('jang')   \n",
    "\n",
    "print( member_list )\n",
    "print( len(member_list ) ) "
   ]
  },
  {
   "cell_type": "code",
   "execution_count": 32,
   "id": "4d781725-446f-4b0c-9285-0f91395a07e9",
   "metadata": {},
   "outputs": [
    {
     "name": "stdout",
     "output_type": "stream",
     "text": [
      "['yoon', 'yoon', 'han', 'hong', 'kim', 'park', 'song', 'choi', 'jang', 'jang']\n",
      "10\n"
     ]
    }
   ],
   "source": [
    "# 리스트 삽입\n",
    "member_list.insert(0, 'yoon') \n",
    "\n",
    "print( member_list )\n",
    "print( len(member_list ) ) "
   ]
  },
  {
   "cell_type": "code",
   "execution_count": 30,
   "id": "8b494684-d049-4ffc-9a9c-0a8bfce34880",
   "metadata": {},
   "outputs": [
    {
     "name": "stdout",
     "output_type": "stream",
     "text": [
      "han\n",
      "han\n",
      "['han', 'hong', 'kim', 'park', 'song', 'choi', 'jang']\n"
     ]
    }
   ],
   "source": [
    "# 리스트 수정\n",
    "print(member_list[0])\n",
    "\n",
    "member_list[0] = \"han\" \n",
    "print(member_list[0])\n",
    "print(member_list)"
   ]
  },
  {
   "cell_type": "code",
   "execution_count": 35,
   "id": "b4f9a270-76a8-4f06-b2f5-81ad7d53416c",
   "metadata": {},
   "outputs": [
    {
     "name": "stdout",
     "output_type": "stream",
     "text": [
      "['yoon', 'han', 'hong', 'kim', 'park', 'song', 'choi', 'jang', 'jang']\n",
      "['han', 'hong', 'kim', 'park', 'song', 'choi', 'jang', 'jang']\n"
     ]
    }
   ],
   "source": [
    "# 리스트 삭제\n",
    "print(member_list)\n",
    "\n",
    "member_list.remove(member_list[0])\n",
    "print(member_list)"
   ]
  },
  {
   "cell_type": "code",
   "execution_count": 38,
   "id": "cb9e41fb-0b81-48c3-bd7f-f7fe937eb118",
   "metadata": {},
   "outputs": [
    {
     "name": "stdout",
     "output_type": "stream",
     "text": [
      "[]\n",
      "[]\n"
     ]
    }
   ],
   "source": [
    "# 전체 삭제\n",
    "print(member_list)\n",
    "\n",
    "member_list.clear()\n",
    "print(member_list)"
   ]
  },
  {
   "cell_type": "markdown",
   "id": "d54661e1-3ec4-4d0d-9a46-0adf5077ab0b",
   "metadata": {
    "tags": []
   },
   "source": [
    "## (4) 리스트 정렬, 뒤집기, 복사"
   ]
  },
  {
   "cell_type": "code",
   "execution_count": 39,
   "id": "3998e1c4-3ded-4c61-81e1-5b917a67d44d",
   "metadata": {},
   "outputs": [
    {
     "name": "stdout",
     "output_type": "stream",
     "text": [
      "['banana', 'kiwi', 'mango', 'orange', 'pineapple']\n"
     ]
    }
   ],
   "source": [
    "# 리스트 정렬 - 오름차순\n",
    "thislist = [\"orange\", \"mango\", \"kiwi\", \"pineapple\", \"banana\"]\n",
    "\n",
    "thislist.sort()\n",
    "print(thislist)"
   ]
  },
  {
   "cell_type": "code",
   "execution_count": 41,
   "id": "9b341a4c-77ba-4fcc-831c-a5588a8fc9ba",
   "metadata": {},
   "outputs": [
    {
     "name": "stdout",
     "output_type": "stream",
     "text": [
      "['pineapple', 'orange', 'mango', 'kiwi', 'banana']\n"
     ]
    }
   ],
   "source": [
    "# 리스트 정렬 - 내림차순\n",
    "thislist = [\"orange\", \"mango\", \"kiwi\", \"pineapple\", \"banana\"]\n",
    "\n",
    "thislist.sort(reverse = True)\n",
    "print(thislist)"
   ]
  },
  {
   "cell_type": "code",
   "execution_count": 42,
   "id": "ee510b0f-9e26-43cf-a1a9-92ded75c1771",
   "metadata": {},
   "outputs": [
    {
     "name": "stdout",
     "output_type": "stream",
     "text": [
      "['Kiwi', 'Orange', 'banana', 'cherry']\n"
     ]
    }
   ],
   "source": [
    "# 대소문자 구분\n",
    "thislist = [\"banana\", \"Orange\", \"Kiwi\", \"cherry\"]\n",
    "\n",
    "thislist.sort()\n",
    "print(thislist)"
   ]
  },
  {
   "cell_type": "code",
   "execution_count": 44,
   "id": "b3381338-0e8b-443e-bb51-0263a4308cd4",
   "metadata": {},
   "outputs": [
    {
     "name": "stdout",
     "output_type": "stream",
     "text": [
      "['banana', 'cherry', 'Kiwi', 'Orange']\n"
     ]
    }
   ],
   "source": [
    "# 대소문자 구분 안함\n",
    "thislist = [\"banana\", \"Orange\", \"Kiwi\", \"cherry\"]\n",
    "\n",
    "thislist.sort(key = str.lower)\n",
    "print(thislist)"
   ]
  },
  {
   "cell_type": "code",
   "execution_count": 45,
   "id": "d3635805-9b4f-4d9e-81f7-c07a8afc390f",
   "metadata": {},
   "outputs": [
    {
     "name": "stdout",
     "output_type": "stream",
     "text": [
      "['cherry', 'Kiwi', 'Orange', 'banana']\n"
     ]
    }
   ],
   "source": [
    "# 리스트 뒤집기\n",
    "thislist = [\"banana\", \"Orange\", \"Kiwi\", \"cherry\"]\n",
    "\n",
    "thislist.reverse()\n",
    "print(thislist)"
   ]
  },
  {
   "cell_type": "code",
   "execution_count": 46,
   "id": "c2c4d8a4-ca77-45cc-9939-bfed3aee5d7e",
   "metadata": {},
   "outputs": [
    {
     "name": "stdout",
     "output_type": "stream",
     "text": [
      "['apple', 'banana', 'cherry']\n"
     ]
    }
   ],
   "source": [
    "# 리스트 복사\n",
    "thislist = [\"apple\", \"banana\", \"cherry\"]\n",
    "\n",
    "mylist = thislist.copy()\n",
    "print(mylist)"
   ]
  },
  {
   "cell_type": "markdown",
   "id": "e4b48a7f-fe85-4c04-b24e-6e7be10f1926",
   "metadata": {},
   "source": [
    "## (5) 리스트 합치기"
   ]
  },
  {
   "cell_type": "code",
   "execution_count": 47,
   "id": "d5f3a868-188a-4fac-8da3-50d6abb1fe19",
   "metadata": {},
   "outputs": [
    {
     "name": "stdout",
     "output_type": "stream",
     "text": [
      "['a', 'b', 'c', 1, 2, 3]\n"
     ]
    }
   ],
   "source": [
    "list1 = [\"a\", \"b\", \"c\"]\n",
    "list2 = [1, 2, 3]\n",
    "\n",
    "list3 = list1 + list2\n",
    "print(list3)"
   ]
  },
  {
   "cell_type": "code",
   "execution_count": 48,
   "id": "b0462693-f5bc-4e3c-8921-fa3527be7070",
   "metadata": {},
   "outputs": [
    {
     "name": "stdout",
     "output_type": "stream",
     "text": [
      "['a', 'b', 'c', 1, 2, 3]\n"
     ]
    }
   ],
   "source": [
    "list1 = [\"a\", \"b\" , \"c\"]\n",
    "list2 = [1, 2, 3]\n",
    "\n",
    "list1.extend(list2)\n",
    "print(list1)"
   ]
  },
  {
   "cell_type": "markdown",
   "id": "afebddef-ca1b-4cf7-bd3b-bdf506ca35f2",
   "metadata": {},
   "source": [
    "## (6) 리스트 함수\n",
    "https://www.w3schools.com/python/python_lists_methods.asp"
   ]
  }
 ],
 "metadata": {
  "kernelspec": {
   "display_name": "Python 3 (ipykernel)",
   "language": "python",
   "name": "python3"
  },
  "language_info": {
   "codemirror_mode": {
    "name": "ipython",
    "version": 3
   },
   "file_extension": ".py",
   "mimetype": "text/x-python",
   "name": "python",
   "nbconvert_exporter": "python",
   "pygments_lexer": "ipython3",
   "version": "3.9.7"
  }
 },
 "nbformat": 4,
 "nbformat_minor": 5
}
