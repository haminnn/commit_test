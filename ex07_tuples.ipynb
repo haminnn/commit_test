{
 "cells": [
  {
   "cell_type": "markdown",
   "id": "7d50c64d-2291-4b87-8b7a-c2caeed28c0c",
   "metadata": {},
   "source": [
    "# Data Structure"
   ]
  },
  {
   "cell_type": "markdown",
   "id": "3fb3993d-610f-4cb3-bb0c-5b5bb1519b49",
   "metadata": {},
   "source": [
    "## 2. Tuple\n",
    "\n",
    "* tuple 자료형은 데이터의 목록이라고 보면 됩니다.\n",
    "* 콤마(,)로 데이터를 나열하면 tuple입니다.\n",
    "* 괄호()안에 ,로 나열해도 tuple입니다.\n",
    "* 길이 1개짜리 tuple을 만들려면 반드시 뒤에 콤마(,)를 붙여야 합니다.\n",
    "* tuple은 다른 자료형들로 만들 수 있습니다.\n",
    "* tuple은 tuple을 가질 수 있습니다.\n",
    "\n",
    "튜플(tuple)은 몇 가지 점을 제외하곤 리스트와 거의 비슷하며 리스트와 다른 점은 다음과 같다.\n",
    "\n",
    "* 리스트는 [ ]으로 둘러싸지만 튜플은 ( )으로 둘러싼다.\n",
    "* 리스트는 그 값의 생성, 삭제, 수정이 가능하지만 튜플은 그 값을 바꿀 수 없다."
   ]
  },
  {
   "cell_type": "markdown",
   "id": "6948fd90-eec1-4c30-acb3-c3652db68888",
   "metadata": {},
   "source": [
    "## (1) 생성"
   ]
  },
  {
   "cell_type": "code",
   "execution_count": 4,
   "id": "338375e5-da0f-4a9c-8f8b-51a8489e6cc2",
   "metadata": {},
   "outputs": [
    {
     "name": "stdout",
     "output_type": "stream",
     "text": [
      "<class 'tuple'> ()\n"
     ]
    }
   ],
   "source": [
    "# 튜플 생성 방법 1\n",
    "mytuple1 = tuple()\n",
    "\n",
    "print(type(mytuple1), mytuple1)"
   ]
  },
  {
   "cell_type": "code",
   "execution_count": 5,
   "id": "d154d249-e025-4333-9209-93b86ac00537",
   "metadata": {},
   "outputs": [
    {
     "name": "stdout",
     "output_type": "stream",
     "text": [
      "(1, 2, 3, 4, 5) <class 'tuple'>\n",
      "(6, 7, 8, 9, 10) <class 'tuple'>\n"
     ]
    }
   ],
   "source": [
    "# 튜플 생성 방법 2\n",
    "mytuple2 = 1, 2, 3, 4, 5\n",
    "mytuple3 = (6, 7, 8, 9, 10)\n",
    "\n",
    "print(mytuple2, type(mytuple2))\n",
    "print(mytuple3, type(mytuple3))"
   ]
  },
  {
   "cell_type": "code",
   "execution_count": 7,
   "id": "31a2fe71-e907-410e-a8f5-41f99f217fa5",
   "metadata": {},
   "outputs": [
    {
     "name": "stdout",
     "output_type": "stream",
     "text": [
      "('apple', 'banana', 'cherry')\n"
     ]
    }
   ],
   "source": [
    "mytuple = (\"apple\", \"banana\", \"cherry\")\n",
    "\n",
    "print(mytuple)"
   ]
  },
  {
   "cell_type": "code",
   "execution_count": 6,
   "id": "f65b1910-3c15-48d4-a433-9cb9c66c4649",
   "metadata": {},
   "outputs": [
    {
     "name": "stdout",
     "output_type": "stream",
     "text": [
      "1 <class 'int'>\n",
      "6 <class 'int'>\n"
     ]
    }
   ],
   "source": [
    "# 튜플 아님\n",
    "tuple3 = 1\n",
    "tuple4 = (6)\n",
    "\n",
    "print(tuple3, type(tuple3))\n",
    "print(tuple4, type(tuple4))"
   ]
  },
  {
   "cell_type": "markdown",
   "id": "df030b25-c002-445a-8db8-0a64ee9fb5bf",
   "metadata": {},
   "source": [
    "## (2) Item 접근"
   ]
  },
  {
   "cell_type": "code",
   "execution_count": 13,
   "id": "108c9c94-8547-4774-a3f4-73f2f95dd14d",
   "metadata": {},
   "outputs": [
    {
     "name": "stdout",
     "output_type": "stream",
     "text": [
      "apple\n",
      "cherry\n",
      "banana\n",
      "('apple', 'banana')\n",
      "('cherry',)\n",
      "3\n"
     ]
    }
   ],
   "source": [
    "mytuple = (\"apple\", \"banana\", \"cherry\")\n",
    "\n",
    "print(mytuple[0])\n",
    "print(mytuple[-1])  # 마지막 아이템\n",
    "print(mytuple[-2])\n",
    "print(mytuple[:2])\n",
    "print(mytuple[2:3])"
   ]
  },
  {
   "cell_type": "markdown",
   "id": "70c4f8b5-72bb-4a08-8ee4-02f9fce77e80",
   "metadata": {},
   "source": [
    "## (3) Item 갯수, 추가, 삭제"
   ]
  },
  {
   "cell_type": "code",
   "execution_count": null,
   "id": "644f1d31-7d71-4ca6-a1a8-19ce8d473cd9",
   "metadata": {},
   "outputs": [],
   "source": [
    "mytuple = (\"apple\", \"banana\", \"cherry\")\n",
    "\n",
    "print(len(mytuple)) # 튜플 길이 (아이템 갯수)"
   ]
  },
  {
   "cell_type": "code",
   "execution_count": 17,
   "id": "48b72ccf-9de9-4fbb-8f90-6b225bd5578e",
   "metadata": {},
   "outputs": [
    {
     "name": "stdout",
     "output_type": "stream",
     "text": [
      "('apple', 'banana', 'cherry', 'orange')\n"
     ]
    }
   ],
   "source": [
    "# 아이템 추가 - 리스트 이용\n",
    "\n",
    "thistuple = (\"apple\", \"banana\", \"cherry\")\n",
    "\n",
    "y = list(thistuple)\n",
    "y.append(\"orange\")\n",
    "\n",
    "thistuple = tuple(y)\n",
    "\n",
    "print(thistuple)"
   ]
  },
  {
   "cell_type": "code",
   "execution_count": 19,
   "id": "c0e80486-eaca-43c7-90d9-69832b6b0d54",
   "metadata": {},
   "outputs": [
    {
     "name": "stdout",
     "output_type": "stream",
     "text": [
      "('apple', 'kiwi', 'cherry')\n"
     ]
    }
   ],
   "source": [
    "# 아이템 변경 - 리스트 이용\n",
    "\n",
    "thistuple = (\"apple\", \"banana\", \"cherry\")\n",
    "y = list(thistuple)\n",
    "y[1] = \"kiwi\"\n",
    "thistuple = tuple(y)\n",
    "\n",
    "print(thistuple)"
   ]
  },
  {
   "cell_type": "code",
   "execution_count": 21,
   "id": "c5d82ce6-2694-4a4d-9ce6-2d02c4b0645e",
   "metadata": {},
   "outputs": [
    {
     "name": "stdout",
     "output_type": "stream",
     "text": [
      "('a', 'b', 'c', 1, 2, 3)\n"
     ]
    }
   ],
   "source": [
    "# 튜플 합치기\n",
    "tuple1 = (\"a\", \"b\" , \"c\")\n",
    "tuple2 = (1, 2, 3)\n",
    "\n",
    "tuple3 = tuple1 + tuple2\n",
    "print(tuple3)"
   ]
  },
  {
   "cell_type": "markdown",
   "id": "ab920168-4800-40ec-8895-56b09086fccb",
   "metadata": {},
   "source": [
    "## (4) 튜플 함수\n",
    "\n",
    "https://www.w3schools.com/python/python_tuples_methods.asp"
   ]
  }
 ],
 "metadata": {
  "kernelspec": {
   "display_name": "Python 3 (ipykernel)",
   "language": "python",
   "name": "python3"
  },
  "language_info": {
   "codemirror_mode": {
    "name": "ipython",
    "version": 3
   },
   "file_extension": ".py",
   "mimetype": "text/x-python",
   "name": "python",
   "nbconvert_exporter": "python",
   "pygments_lexer": "ipython3",
   "version": "3.9.7"
  }
 },
 "nbformat": 4,
 "nbformat_minor": 5
}
