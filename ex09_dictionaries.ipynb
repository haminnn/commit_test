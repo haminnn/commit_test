{
 "cells": [
  {
   "cell_type": "markdown",
   "id": "20066151-af82-4589-b2d3-dc5eab0e0ab5",
   "metadata": {},
   "source": [
    "# Data Structure"
   ]
  },
  {
   "cell_type": "markdown",
   "id": "2124b1aa-e128-4ee9-ac6f-3042cacb3e83",
   "metadata": {},
   "source": [
    "## 4. Dictionary\n",
    "\n",
    "* dictionary는 \"키(Key)/값(Value)\" 쌍을 요소로 갖는 자료형입니다.\n",
    "* dictionary는 흔히 Map 이라고도 불립니다. 키(Key)로 신속하게 값(Value)을 찾아내는 해시테이블(Hash Table) 구조를 갖습니다.\n",
    "* 파이썬에서 dictionary는 \"dict\" 클래스로 구현되어 있습니다.\n",
    "* dictionary의 키(key)는 그 값을 변경할 수 없는 Immutable 타입이어야 하며, dictionary 값(value)은 Immutable과 Mutable 모두 가능합니다. 예를 들어, dictionary의 키(key)로 문자열이나 Tuple은 사용될 수 있는 반면, 리스트는 키로 사용될 수 없습니다.\n",
    "* dictionary의 요소들은 {} 를 사용하여 만듭니다. 여러개일 경우 콤마(,)로 구분합니다.\n",
    "* {}를 이용하여 만들 수 있습니다.\n",
    "* dict() 생성자를 이용하여 만들 수 있습니다."
   ]
  },
  {
   "cell_type": "markdown",
   "id": "8812f2ec-0f35-4888-ac5e-5a2830c1018e",
   "metadata": {},
   "source": [
    "## (1) 생성 "
   ]
  },
  {
   "cell_type": "code",
   "execution_count": 2,
   "id": "7af6eccf-a4ca-4513-ac75-eedb7cc1b44c",
   "metadata": {},
   "outputs": [
    {
     "name": "stdout",
     "output_type": "stream",
     "text": [
      "<class 'dict'> {}\n"
     ]
    }
   ],
   "source": [
    "# 딕셔너리 생성 방법 1\n",
    "mydict1 = dict()\n",
    "\n",
    "print(type(mydict1), mydict1)"
   ]
  },
  {
   "cell_type": "code",
   "execution_count": 4,
   "id": "67eb98e6-38f0-4978-b886-3c1284df6c96",
   "metadata": {},
   "outputs": [
    {
     "name": "stdout",
     "output_type": "stream",
     "text": [
      "<class 'dict'> {'name': '한사람', 'age': 22, 'gender': True}\n"
     ]
    }
   ],
   "source": [
    "# 딕셔너리 생성 방법 2\n",
    "mydict2 = {'name':'한사람','age':22, 'gender': True}\n",
    "\n",
    "print(type(mydict2), mydict2)"
   ]
  },
  {
   "cell_type": "code",
   "execution_count": 6,
   "id": "f4e34a0a-3591-4ca9-82bc-950863d030b8",
   "metadata": {},
   "outputs": [
    {
     "name": "stdout",
     "output_type": "stream",
     "text": [
      "{'brand': 'Ford', 'model': 'Mustang', 'year': 2020}\n"
     ]
    }
   ],
   "source": [
    "thisdict = {\n",
    "  \"brand\": \"Ford\",\n",
    "  \"model\": \"Mustang\",\n",
    "  \"year\": 1964,\n",
    "  \"year\": 2020\n",
    "}\n",
    "print(thisdict)"
   ]
  },
  {
   "cell_type": "code",
   "execution_count": null,
   "id": "495afde3-dab8-420b-a9c6-21d1178b663b",
   "metadata": {},
   "outputs": [],
   "source": [
    "thisdict = {\n",
    "  \"brand\": \"Ford\",\n",
    "  \"electric\": False,\n",
    "  \"year\": 1964,\n",
    "  \"colors\": [\"red\", \"white\", \"blue\"]\n",
    "}\n",
    "\n",
    "print(len(thisdict))"
   ]
  },
  {
   "cell_type": "markdown",
   "id": "24649cea-1a1a-4d6b-93b9-3ea5c4621070",
   "metadata": {
    "tags": []
   },
   "source": [
    "## (2) Item 접근"
   ]
  },
  {
   "cell_type": "code",
   "execution_count": 8,
   "id": "48436d5e-22ff-46a5-829c-ab32fc4c1256",
   "metadata": {},
   "outputs": [
    {
     "name": "stdout",
     "output_type": "stream",
     "text": [
      "Ford\n",
      "Mustang\n"
     ]
    }
   ],
   "source": [
    "thisdict = {\n",
    "  \"brand\": \"Ford\",\n",
    "  \"model\": \"Mustang\",\n",
    "  \"year\": 1964\n",
    "}\n",
    "\n",
    "print(thisdict[\"brand\"])\n",
    "\n",
    "x = thisdict.get(\"model\")\n",
    "print(x)"
   ]
  },
  {
   "cell_type": "code",
   "execution_count": null,
   "id": "90a9254b-7200-4562-9fea-8444a5ca2801",
   "metadata": {},
   "outputs": [],
   "source": [
    "print(len(thisdict))"
   ]
  },
  {
   "cell_type": "code",
   "execution_count": 25,
   "id": "4bfced3e-d6fa-4349-a162-4422bda8146e",
   "metadata": {},
   "outputs": [
    {
     "name": "stdout",
     "output_type": "stream",
     "text": [
      "dict_keys(['brand', 'model', 'year'])\n",
      "True\n",
      "False\n"
     ]
    }
   ],
   "source": [
    "# 키 리스트\n",
    "x = thisdict.keys()\n",
    "print(x)\n",
    "\n",
    "# 키 포함 여부\n",
    "print( \"brand\" in  thisdict )\n",
    "print( \"color\" in  thisdict )"
   ]
  },
  {
   "cell_type": "markdown",
   "id": "e0b10108-21ca-4e5c-bfd6-976f00efce52",
   "metadata": {},
   "source": [
    "## (3) Item 추가, 수정, 삭제, 복사"
   ]
  },
  {
   "cell_type": "code",
   "execution_count": 41,
   "id": "61517271-83f7-49a9-9dbe-f7a9ad993f55",
   "metadata": {},
   "outputs": [
    {
     "name": "stdout",
     "output_type": "stream",
     "text": [
      "{'brand': 'Ford', 'model': 'Mustang', 'year': 1964}\n",
      "dict_keys(['brand', 'model', 'year'])\n",
      "dict_values(['Ford', 'Mustang', 1964])\n",
      "dict_items([('brand', 'Ford'), ('model', 'Mustang'), ('year', 1964)])\n"
     ]
    }
   ],
   "source": [
    "# 아이템 키/값 리스트\n",
    "car = {\n",
    "    \"brand\": \"Ford\",\n",
    "    \"model\": \"Mustang\",\n",
    "    \"year\": 1964\n",
    "}\n",
    "\n",
    "keys = car.keys() # 키 리스트\n",
    "values = car.values() # 값 리스트\n",
    "items = car.items() # 아이템 리스트\n",
    "\n",
    "print(car)\n",
    "print(keys) \n",
    "print(values) \n",
    "print(items)"
   ]
  },
  {
   "cell_type": "code",
   "execution_count": 42,
   "id": "d6b15a7a-898d-45a8-b787-1907a9dec0c6",
   "metadata": {},
   "outputs": [
    {
     "name": "stdout",
     "output_type": "stream",
     "text": [
      "dict_keys(['brand', 'model', 'year', 'color'])\n",
      "dict_values(['BMW', 'Mustang', 1964, 'white'])\n",
      "{'brand': 'BMW', 'model': 'Mustang', 'year': 1964, 'color': 'white'}\n"
     ]
    }
   ],
   "source": [
    "# 아이템 추가 및 수정\n",
    "car[\"color\"] = \"white\" # \"color\" 이라는 키가 존재하면 갱신, 그렇지 않으면 추가 \n",
    "car[\"brand\"] = \"BMW\"   # \"brand\" 이라는 키가 존재하면 갱신, 그렇지 않으면 추가 \n",
    "\n",
    "print(keys) # 키 리스트\n",
    "print(values)# 값 리스트\n",
    "print(car)"
   ]
  },
  {
   "cell_type": "code",
   "execution_count": 31,
   "id": "72cc854d-aff7-4d26-948b-5e5e98cd9a78",
   "metadata": {},
   "outputs": [
    {
     "name": "stdout",
     "output_type": "stream",
     "text": [
      "Ford\n"
     ]
    }
   ],
   "source": [
    "# 키를 이용한 값 얻기\n",
    "car = {\n",
    "    \"brand\": \"Ford\",\n",
    "    \"model\": \"Mustang\",\n",
    "    \"year\": 1964\n",
    "}\n",
    "\n",
    "x = car.get(\"brand\")\n",
    "print(x)"
   ]
  },
  {
   "cell_type": "code",
   "execution_count": 29,
   "id": "fdd1f2a2-d191-435a-98a4-4ebc60a629b9",
   "metadata": {},
   "outputs": [
    {
     "name": "stdout",
     "output_type": "stream",
     "text": [
      "{'color': 'red'}\n"
     ]
    }
   ],
   "source": [
    "# 아이템 값 변경\n",
    "car.update({\"color\": \"red\"}) # 값 업데이트\n",
    "print(car)"
   ]
  },
  {
   "cell_type": "code",
   "execution_count": 19,
   "id": "74bd04b9-2dc3-4786-9145-af00f64a8cf9",
   "metadata": {},
   "outputs": [
    {
     "name": "stdout",
     "output_type": "stream",
     "text": [
      "{'brand': 'Ford', 'year': 1964}\n"
     ]
    }
   ],
   "source": [
    "# 아이템 삭제\n",
    "car = {\n",
    "  \"brand\": \"Ford\",\n",
    "  \"model\": \"Mustang\",\n",
    "  \"year\": 1964\n",
    "}\n",
    "\n",
    "car.pop(\"model\") # 아이템 삭제\n",
    "\n",
    "print(car)"
   ]
  },
  {
   "cell_type": "code",
   "execution_count": 27,
   "id": "dd123364-8f4d-4e57-87c3-6544e34192a9",
   "metadata": {},
   "outputs": [
    {
     "name": "stdout",
     "output_type": "stream",
     "text": [
      "{}\n"
     ]
    }
   ],
   "source": [
    "# 아이템 전체 삭제\n",
    "car = {\n",
    "  \"brand\": \"Ford\",\n",
    "  \"model\": \"Mustang\",\n",
    "  \"year\": 1964\n",
    "}\n",
    "\n",
    "car.clear()\n",
    "\n",
    "print(car)"
   ]
  },
  {
   "cell_type": "code",
   "execution_count": 28,
   "id": "4586571e-6d88-44be-9196-99efe4ef3e31",
   "metadata": {},
   "outputs": [
    {
     "name": "stdout",
     "output_type": "stream",
     "text": [
      "{'brand': 'Ford', 'model': 'Mustang', 'year': 1964}\n",
      "{'brand': 'Ford', 'model': 'Mustang', 'year': 1964}\n"
     ]
    }
   ],
   "source": [
    "# 딕셔너리 복사\n",
    "thisdict = {\n",
    "  \"brand\": \"Ford\",\n",
    "  \"model\": \"Mustang\",\n",
    "  \"year\": 1964\n",
    "}\n",
    "\n",
    "print(thisdict)\n",
    "mydict = thisdict.copy()\n",
    "print(mydict)"
   ]
  },
  {
   "cell_type": "markdown",
   "id": "5f7d9246-9893-4479-b017-7f6b3b1f272b",
   "metadata": {},
   "source": [
    "## (4) Dictionary 내장"
   ]
  },
  {
   "cell_type": "code",
   "execution_count": 43,
   "id": "da3ca568-a4c5-4ffb-9214-85ad8f32c3e2",
   "metadata": {},
   "outputs": [
    {
     "name": "stdout",
     "output_type": "stream",
     "text": [
      "{'child1': {'name': 'Emil', 'year': 2004}, 'child2': {'name': 'Tobias', 'year': 2007}, 'child3': {'name': 'Linus', 'year': 2011}}\n"
     ]
    }
   ],
   "source": [
    "myfamily = {\n",
    "  \"child1\" : {\n",
    "    \"name\" : \"Emil\",\n",
    "    \"year\" : 2004\n",
    "  },\n",
    "  \"child2\" : {\n",
    "    \"name\" : \"Tobias\",\n",
    "    \"year\" : 2007\n",
    "  },\n",
    "  \"child3\" : {\n",
    "    \"name\" : \"Linus\",\n",
    "    \"year\" : 2011\n",
    "  }\n",
    "}\n",
    "\n",
    "print(myfamily)"
   ]
  },
  {
   "cell_type": "code",
   "execution_count": 44,
   "id": "d77f282a-7ce1-464d-af1f-dededda819b3",
   "metadata": {},
   "outputs": [
    {
     "name": "stdout",
     "output_type": "stream",
     "text": [
      "{'child1': {'name': 'Emil', 'year': 2004}, 'child2': {'name': 'Tobias', 'year': 2007}, 'child3': {'name': 'Linus', 'year': 2011}}\n"
     ]
    }
   ],
   "source": [
    "child1 = {\n",
    "  \"name\" : \"Emil\",\n",
    "  \"year\" : 2004\n",
    "}\n",
    "child2 = {\n",
    "  \"name\" : \"Tobias\",\n",
    "  \"year\" : 2007\n",
    "}\n",
    "child3 = {\n",
    "  \"name\" : \"Linus\",\n",
    "  \"year\" : 2011\n",
    "}\n",
    "\n",
    "myfamily = {\n",
    "  \"child1\" : child1,\n",
    "  \"child2\" : child2,\n",
    "  \"child3\" : child3\n",
    "}\n",
    "\n",
    "print(myfamily)"
   ]
  },
  {
   "cell_type": "markdown",
   "id": "3ddca8ca-4f47-48ec-9375-61f782fc35a3",
   "metadata": {},
   "source": [
    "## (5) Dictionary 함수\n",
    "https://www.w3schools.com/python/python_dictionaries_methods.asp"
   ]
  }
 ],
 "metadata": {
  "kernelspec": {
   "display_name": "default:Python",
   "language": "python",
   "name": "conda-env-default-py"
  },
  "language_info": {
   "codemirror_mode": {
    "name": "ipython",
    "version": 3
   },
   "file_extension": ".py",
   "mimetype": "text/x-python",
   "name": "python",
   "nbconvert_exporter": "python",
   "pygments_lexer": "ipython3",
   "version": "3.9.7"
  }
 },
 "nbformat": 4,
 "nbformat_minor": 5
}
