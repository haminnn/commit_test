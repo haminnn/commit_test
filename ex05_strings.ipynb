{
 "cells": [
  {
   "cell_type": "markdown",
   "id": "616076f2-37c0-4801-a4d3-a5d2caeff6f8",
   "metadata": {},
   "source": [
    "# String"
   ]
  },
  {
   "cell_type": "markdown",
   "id": "66c7ab2e-0b63-4d04-bfad-e24b0e1f5bed",
   "metadata": {},
   "source": [
    "## 1. 문자열 데이터 타입"
   ]
  },
  {
   "cell_type": "code",
   "execution_count": 3,
   "id": "4f68f23d-1472-43eb-ad3b-5fe0320b4f35",
   "metadata": {},
   "outputs": [
    {
     "name": "stdout",
     "output_type": "stream",
     "text": [
      "<class 'str'>\n",
      "별 보러 가자.  ::  적재\n",
      "찬 바람이 조금씩 불어오면은\n",
      "밤 하늘이 반짝이더라\n",
      "8\n"
     ]
    }
   ],
   "source": [
    "# 문자열은 \" \"  또는 ' '로 감싼다. \n",
    "title =\"별 보러 가자.\" \n",
    "author = '적재' \n",
    "\n",
    "print( type(title) ) # 데이터 타입 확인 \n",
    "\n",
    "# 여러줄 문자열 \n",
    "message=\"\"\"찬 바람이 조금씩 불어오면은\n",
    "밤 하늘이 반짝이더라\"\"\"\n",
    "\n",
    "print(title, \" :: \" , author)\n",
    "print(message )\n",
    "\n",
    "# 문자열 길이\n",
    "print( len(title)  )"
   ]
  },
  {
   "cell_type": "markdown",
   "id": "a58689a3-0b86-4604-b30d-a981e0cde173",
   "metadata": {},
   "source": [
    "## 2. 문자열 인덱싱"
   ]
  },
  {
   "cell_type": "code",
   "execution_count": 4,
   "id": "628514b2-61e0-40c1-b3e9-2f42ae7047dd",
   "metadata": {},
   "outputs": [
    {
     "name": "stdout",
     "output_type": "stream",
     "text": [
      "별   보 러   가\n"
     ]
    }
   ],
   "source": [
    "# 인덱스는 0부터 시작. \n",
    "\n",
    "print(title[0],title[1],title[2],title[3],title[4],title[5] )"
   ]
  },
  {
   "cell_type": "markdown",
   "id": "4f2f32c1-389e-4c8f-b9f9-7adaff96a297",
   "metadata": {},
   "source": [
    "## 3. 문자 슬라이싱"
   ]
  },
  {
   "cell_type": "code",
   "execution_count": 5,
   "id": "996b1966-4c3b-4baf-a635-2609288929c5",
   "metadata": {},
   "outputs": [
    {
     "name": "stdout",
     "output_type": "stream",
     "text": [
      "별 보러 가자.\n",
      " 보러 가자.\n",
      "보러 가자.\n",
      "러 가자.\n",
      " 가자.\n"
     ]
    }
   ],
   "source": [
    "print(title[:])  # 처음부터 끝까지 \n",
    "print(title[1:]) # 1인덱스부터 끝까지 \n",
    "print(title[2:]) # 2인덱스부터 끝까지 \n",
    "print(title[3:]) # 3인덱스부터 끝까지 \n",
    "print(title[4:]) # 4인덱스부터 끝까지 "
   ]
  },
  {
   "cell_type": "code",
   "execution_count": 6,
   "id": "34b296c2-cffa-4832-9d36-50eec15e31e3",
   "metadata": {},
   "outputs": [
    {
     "name": "stdout",
     "output_type": "stream",
     "text": [
      "별 보러 가\n",
      "별 보러 \n",
      "별 보러 가자\n",
      "별 보러 가\n",
      " 가\n"
     ]
    }
   ],
   "source": [
    "print(title[:6])  # 처음부터 6인덱스 바로 앞까지\n",
    "print(title[:5])  # 처음부터 5인덱스 바로 앞까지\n",
    "print(title[:-1]) # 처음부터 마지막 글자 바로 앞까지 \n",
    "print(title[:-2]) # 처음부터 마지막 글자 두개앞까지 \n",
    "print(title[4:6]) # 4인덱스부터 6인덱스 바로 앞까지"
   ]
  },
  {
   "cell_type": "markdown",
   "id": "bb42663f-7b83-4859-8358-62d88b17c0e6",
   "metadata": {},
   "source": [
    "## 4. 문자열 함수\n",
    "https://www.w3schools.com/python/python_strings_methods.asp"
   ]
  },
  {
   "cell_type": "code",
   "execution_count": 16,
   "id": "a32c32f0-e69d-47b2-9ccc-4046366e0b6d",
   "metadata": {},
   "outputs": [
    {
     "name": "stdout",
     "output_type": "stream",
     "text": [
      "HELLO! WORLD\n",
      "hello! world\n",
      "Hello! World\n",
      "HELLO! WORLD\n",
      "3\n",
      "2\n",
      "2\n"
     ]
    }
   ],
   "source": [
    "message = \"Hello! World\" \n",
    "\n",
    "print ( message.upper() ) # 대문자로 바꿈\n",
    "print ( message.lower() ) # 소문자로 바꿈 \n",
    "\n",
    "# 단, message변수의 내용을 바꾸는 것이 아니라, 새로운 것을 만들어서 반환하는 것임.\n",
    "# 즉, message변수의 내용은 바뀌지 않았다. \n",
    "print(message)\n",
    "\n",
    "# message 변수의 내용을 변경하려면 다음과 같이 message 변수에  할당.\n",
    "message = message.upper()\n",
    "print(message)\n",
    "\n",
    "print ( message.count('L') ) # 특정문자('l') 갯수를 셈. 없으면 0 \n",
    "print ( message.count('L',3 )  )  # 특정문자('l') 갯수를 셈. 단 3인덱스 부터 \n",
    "\n",
    "print ( message.index('L')  )# 특정문자('l') 가 위치한 인덱스, 단 없으면 에러.\n",
    "#print ( message.index('z')  ) # 특정문자('z') 가 위치한 인덱스. 단 없으면 에러."
   ]
  },
  {
   "cell_type": "code",
   "execution_count": 17,
   "id": "5bc46930-86b0-4158-b5e0-5f042e575423",
   "metadata": {},
   "outputs": [
    {
     "name": "stdout",
     "output_type": "stream",
     "text": [
      " Hello HEY !!!\n",
      "Hello HEY !!!\n",
      " Hello Hey !!!\n",
      "['', 'Hello', 'HEY', '!!!']\n",
      "['99', '10', '11']\n"
     ]
    }
   ],
   "source": [
    "message = \" Hello HEY !!!\" \n",
    "\n",
    "print ( message )\n",
    "print ( message.strip() ) # 좌우 공백제거\n",
    "print ( message.replace(\"HEY\",\"Hey\") ) #문자열 변경 \n",
    "\n",
    "print ( message.split(' ') ) \n",
    "\n",
    "data = \"99:10:11\"\n",
    "print ( data.split(':') ) "
   ]
  },
  {
   "cell_type": "code",
   "execution_count": 18,
   "id": "7461faaa-2a6b-43b9-acfd-60183361efb3",
   "metadata": {},
   "outputs": [
    {
     "name": "stdout",
     "output_type": "stream",
     "text": [
      "HelloWorld\n"
     ]
    }
   ],
   "source": [
    "# 문자열 연결\n",
    "a = \"Hello\"\n",
    "b = \"World\"\n",
    "c = a + b\n",
    "\n",
    "print(c)"
   ]
  },
  {
   "cell_type": "code",
   "execution_count": 20,
   "id": "c9e9e914-3700-4060-bcd3-c180af645415",
   "metadata": {},
   "outputs": [
    {
     "name": "stdout",
     "output_type": "stream",
     "text": [
      "My name is John, and I am 36\n"
     ]
    }
   ],
   "source": [
    "# age = 36\n",
    "# txt = \"My name is John, I am \" + age\n",
    "# print(txt)\n",
    "\n",
    "age = 36\n",
    "txt = \"My name is John, and I am {}\"\n",
    "print(txt.format(age))"
   ]
  },
  {
   "cell_type": "code",
   "execution_count": 22,
   "id": "b888debf-bb14-44c0-bdfe-028ae46dffc4",
   "metadata": {},
   "outputs": [
    {
     "name": "stdout",
     "output_type": "stream",
     "text": [
      "I want 3 pieces of item 567 for 49.95 dollars.\n",
      "I want to pay 49.95 dollars for 3 pieces of item 567.\n"
     ]
    }
   ],
   "source": [
    "quantity = 3\n",
    "itemno = 567\n",
    "price = 49.95\n",
    "\n",
    "myorder = \"I want {} pieces of item {} for {} dollars.\"\n",
    "print(myorder.format(quantity, itemno, price))\n",
    "\n",
    "\n",
    "quantity = 3\n",
    "itemno = 567\n",
    "price = 49.95\n",
    "myorder = \"I want to pay {2} dollars for {0} pieces of item {1}.\"\n",
    "print(myorder.format(quantity, itemno, price))"
   ]
  },
  {
   "cell_type": "markdown",
   "id": "cd45b19b-ced1-473f-9d1a-506fa43976c9",
   "metadata": {},
   "source": [
    "## 5. Escape Characters\n",
    "\n",
    "* \\\\'\tSingle Quote\t\n",
    "* \\\\\\\tBackslash\t\n",
    "* \\n\tNew Line\t\n",
    "* \\r\tCarriage Return\t\n",
    "* \\t\tTab\t\n",
    "* \\b\tBackspace\t\n",
    "* \\f\tForm Feed\t\n",
    "* \\ooo\tOctal value\t\n",
    "* \\xhh\tHex value"
   ]
  }
 ],
 "metadata": {
  "kernelspec": {
   "display_name": "default:Python",
   "language": "python",
   "name": "conda-env-default-py"
  },
  "language_info": {
   "codemirror_mode": {
    "name": "ipython",
    "version": 3
   },
   "file_extension": ".py",
   "mimetype": "text/x-python",
   "name": "python",
   "nbconvert_exporter": "python",
   "pygments_lexer": "ipython3",
   "version": "3.9.7"
  }
 },
 "nbformat": 4,
 "nbformat_minor": 5
}
