{
 "cells": [
  {
   "cell_type": "markdown",
   "id": "14dc8bde-14d4-4d15-8992-8ec44b0604cc",
   "metadata": {},
   "source": [
    "# Operators"
   ]
  },
  {
   "cell_type": "code",
   "execution_count": 4,
   "id": "8fd64405-1978-4c7e-b870-d1f96fc7790d",
   "metadata": {},
   "outputs": [],
   "source": [
    "#1) 변수이름은 score  변수값은 10 \n",
    "score = 10 \n",
    "\n",
    "#2) 변수이름은 qty  변수값은 200\n",
    "qty = 200\n",
    "\n",
    "#3) 변수이름은 name 변수값은 “Leeji”  또는 ‘Leeji’ \n",
    "name = 'Nayoung'"
   ]
  },
  {
   "cell_type": "markdown",
   "id": "586d0b72-fc23-45a1-ab05-914eaa7ee97a",
   "metadata": {},
   "source": [
    "## 1. 산술 연산자"
   ]
  },
  {
   "cell_type": "code",
   "execution_count": null,
   "id": "82e78931-1c9a-495b-9248-bd5545984291",
   "metadata": {},
   "outputs": [],
   "source": [
    "a = 20 #대입연산자\n",
    "b = 15 #대입연산자\n",
    "result = a + b ; print( result )   # 덧셈연산자 \n",
    "result = a - b ; print( result )   # 뺄셈연산자 \n",
    "result = a * b ; print( result )   # 곱셈연산자\n",
    "result = a / b ; print( result )   # 나눗셈연산자\n",
    "result = a // b ; print( result )  # 나누기(몫)연산자\n",
    "result = a % b ; print( result )   # 나눈 나머지연산자 \n",
    "result = a ** 2 ; print( result )  # 제곱연산자"
   ]
  },
  {
   "cell_type": "markdown",
   "id": "9c5bcb57-ccc7-4911-b0e7-b69710a00330",
   "metadata": {},
   "source": [
    "## 2. 비교 연산자"
   ]
  },
  {
   "cell_type": "code",
   "execution_count": 3,
   "id": "bb5c1d56-a350-4f05-bab8-8824dab1a8ea",
   "metadata": {},
   "outputs": [
    {
     "name": "stdout",
     "output_type": "stream",
     "text": [
      "True\n",
      "True\n",
      "False\n",
      "False\n",
      "False\n",
      "True\n"
     ]
    }
   ],
   "source": [
    "data = 50 \n",
    "score = 100 \n",
    "\n",
    "print( data < score )\n",
    "print( data <= score )\n",
    "print( data > score )\n",
    "print( data >= score )\n",
    "print( data == score ) # 같으면 True \n",
    "print( data != score ) # 다르면 True"
   ]
  },
  {
   "cell_type": "markdown",
   "id": "10ee0d09-9204-4bb2-8e50-9bf135e26e79",
   "metadata": {},
   "source": [
    "## 3. 논리 연산자"
   ]
  },
  {
   "cell_type": "code",
   "execution_count": 2,
   "id": "334b0a0d-8fc3-4c8a-b206-ba573e577480",
   "metadata": {
    "tags": []
   },
   "outputs": [
    {
     "name": "stdout",
     "output_type": "stream",
     "text": [
      "True\n",
      "True\n",
      "True\n",
      "False\n"
     ]
    }
   ],
   "source": [
    "score = 10\n",
    "print( score >= 0  and  score <= 100 )  # 양쪽 모두 참인 경우 True \n",
    "#print( 0  <=   score <= 100 )\n",
    "\n",
    "print( score >= 0  or  score <= 100 )   # 양쪽 중 하나라도 참인 경우 True \n",
    "#print( not score >= 0 )                 # 참이면 False ,거짓이면 True"
   ]
  },
  {
   "cell_type": "markdown",
   "id": "d441d66f-62b1-4e55-8a2b-5c380f04c60c",
   "metadata": {},
   "source": [
    "## 4. 멤버 연산자 "
   ]
  },
  {
   "cell_type": "code",
   "execution_count": 14,
   "id": "3bfe78da-aef0-48ab-8868-c795a359e3b7",
   "metadata": {},
   "outputs": [
    {
     "name": "stdout",
     "output_type": "stream",
     "text": [
      "False\n",
      "True\n",
      "True\n"
     ]
    }
   ],
   "source": [
    "fruits  = [\"apple\", \"banan\"]\n",
    "\n",
    "print(\"pineapple\" in x)  # 포함되면 True \n",
    "print(\"apple\" in x)  # 포함되면 True \n",
    "print(\"pineapple\" not in x )# 포함되지 않으면 True  "
   ]
  },
  {
   "cell_type": "markdown",
   "id": "36497965-c719-4b6d-92ec-8e9232a07ceb",
   "metadata": {},
   "source": [
    "## 5. 아이디 연산자 "
   ]
  },
  {
   "cell_type": "code",
   "execution_count": 8,
   "id": "f8831e4d-6d6a-487f-965c-ffc6d20ab241",
   "metadata": {},
   "outputs": [
    {
     "name": "stdout",
     "output_type": "stream",
     "text": [
      "True\n",
      "True\n"
     ]
    }
   ],
   "source": [
    "x = [\"apple\", \"banana\"]\n",
    "y = [\"apple\", \"banana\"]\n",
    "z = x\n",
    "\n",
    "print(x is z) # 같으면 True \n",
    "print(x is not y) # 다르면 True"
   ]
  }
 ],
 "metadata": {
  "kernelspec": {
   "display_name": "default:Python",
   "language": "python",
   "name": "conda-env-default-py"
  },
  "language_info": {
   "codemirror_mode": {
    "name": "ipython",
    "version": 3
   },
   "file_extension": ".py",
   "mimetype": "text/x-python",
   "name": "python",
   "nbconvert_exporter": "python",
   "pygments_lexer": "ipython3",
   "version": "3.9.7"
  }
 },
 "nbformat": 4,
 "nbformat_minor": 5
}
